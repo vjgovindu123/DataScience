{
 "cells": [
  {
   "cell_type": "markdown",
   "id": "1e50c4bb-15f4-40e1-b9bf-7d41a746df14",
   "metadata": {},
   "source": [
    "Step1: Data Preparation"
   ]
  },
  {
   "cell_type": "code",
   "execution_count": 90,
   "id": "4574372b-6e37-4c9b-b51f-ad3cc606000f",
   "metadata": {},
   "outputs": [
    {
     "data": {
      "text/html": [
       "<div>\n",
       "<style scoped>\n",
       "    .dataframe tbody tr th:only-of-type {\n",
       "        vertical-align: middle;\n",
       "    }\n",
       "\n",
       "    .dataframe tbody tr th {\n",
       "        vertical-align: top;\n",
       "    }\n",
       "\n",
       "    .dataframe thead th {\n",
       "        text-align: right;\n",
       "    }\n",
       "</style>\n",
       "<table border=\"1\" class=\"dataframe\">\n",
       "  <thead>\n",
       "    <tr style=\"text-align: right;\">\n",
       "      <th></th>\n",
       "      <th>OrderID</th>\n",
       "      <th>Product</th>\n",
       "      <th>Category</th>\n",
       "      <th>Price</th>\n",
       "      <th>Quantity</th>\n",
       "      <th>CustomerID</th>\n",
       "      <th>OrderDate</th>\n",
       "      <th>Rating</th>\n",
       "      <th>Discount</th>\n",
       "      <th>City</th>\n",
       "      <th>Country</th>\n",
       "      <th>ReturnStatus</th>\n",
       "      <th>PaymentMethod</th>\n",
       "    </tr>\n",
       "  </thead>\n",
       "  <tbody>\n",
       "    <tr>\n",
       "      <th>0</th>\n",
       "      <td>1</td>\n",
       "      <td>Laptop</td>\n",
       "      <td>Electronics</td>\n",
       "      <td>800</td>\n",
       "      <td>1</td>\n",
       "      <td>1001</td>\n",
       "      <td>01-10-2024</td>\n",
       "      <td>4.5</td>\n",
       "      <td>0.10</td>\n",
       "      <td>New York</td>\n",
       "      <td>USA</td>\n",
       "      <td>Returned</td>\n",
       "      <td>Credit Card</td>\n",
       "    </tr>\n",
       "    <tr>\n",
       "      <th>1</th>\n",
       "      <td>2</td>\n",
       "      <td>Phone</td>\n",
       "      <td>Electronics</td>\n",
       "      <td>500</td>\n",
       "      <td>2</td>\n",
       "      <td>1002</td>\n",
       "      <td>03-10-2024</td>\n",
       "      <td>4.2</td>\n",
       "      <td>0.15</td>\n",
       "      <td>Los Angeles</td>\n",
       "      <td>USA</td>\n",
       "      <td>Completed</td>\n",
       "      <td>PayPal</td>\n",
       "    </tr>\n",
       "    <tr>\n",
       "      <th>2</th>\n",
       "      <td>3</td>\n",
       "      <td>Chair</td>\n",
       "      <td>Furniture</td>\n",
       "      <td>150</td>\n",
       "      <td>3</td>\n",
       "      <td>1003</td>\n",
       "      <td>10-10-2024</td>\n",
       "      <td>4.0</td>\n",
       "      <td>0.05</td>\n",
       "      <td>Toronto</td>\n",
       "      <td>Canada</td>\n",
       "      <td>Completed</td>\n",
       "      <td>Debit Card</td>\n",
       "    </tr>\n",
       "    <tr>\n",
       "      <th>3</th>\n",
       "      <td>4</td>\n",
       "      <td>Headphones</td>\n",
       "      <td>Electronics</td>\n",
       "      <td>100</td>\n",
       "      <td>4</td>\n",
       "      <td>1004</td>\n",
       "      <td>12-10-2024</td>\n",
       "      <td>3.8</td>\n",
       "      <td>0.20</td>\n",
       "      <td>New York</td>\n",
       "      <td>USA</td>\n",
       "      <td>Returned</td>\n",
       "      <td>Credit Card</td>\n",
       "    </tr>\n",
       "    <tr>\n",
       "      <th>4</th>\n",
       "      <td>5</td>\n",
       "      <td>Desk</td>\n",
       "      <td>Furniture</td>\n",
       "      <td>200</td>\n",
       "      <td>1</td>\n",
       "      <td>1005</td>\n",
       "      <td>15-10-2024</td>\n",
       "      <td>NaN</td>\n",
       "      <td>NaN</td>\n",
       "      <td>London</td>\n",
       "      <td>UK</td>\n",
       "      <td>Completed</td>\n",
       "      <td>Credit Card</td>\n",
       "    </tr>\n",
       "    <tr>\n",
       "      <th>5</th>\n",
       "      <td>6</td>\n",
       "      <td>Gaming Console</td>\n",
       "      <td>Electronics</td>\n",
       "      <td>300</td>\n",
       "      <td>1</td>\n",
       "      <td>1006</td>\n",
       "      <td>20-10-2024</td>\n",
       "      <td>4.6</td>\n",
       "      <td>0.05</td>\n",
       "      <td>Chicago</td>\n",
       "      <td>USA</td>\n",
       "      <td>Completed</td>\n",
       "      <td>PayPal</td>\n",
       "    </tr>\n",
       "    <tr>\n",
       "      <th>6</th>\n",
       "      <td>7</td>\n",
       "      <td>Sofa</td>\n",
       "      <td>NaN</td>\n",
       "      <td>500</td>\n",
       "      <td>2</td>\n",
       "      <td>1007</td>\n",
       "      <td>25-10-2024</td>\n",
       "      <td>4.4</td>\n",
       "      <td>0.15</td>\n",
       "      <td>Toronto</td>\n",
       "      <td>Canada</td>\n",
       "      <td>Completed</td>\n",
       "      <td>Debit Card</td>\n",
       "    </tr>\n",
       "  </tbody>\n",
       "</table>\n",
       "</div>"
      ],
      "text/plain": [
       "   OrderID         Product     Category  Price  Quantity  CustomerID  \\\n",
       "0        1          Laptop  Electronics    800         1        1001   \n",
       "1        2           Phone  Electronics    500         2        1002   \n",
       "2        3           Chair    Furniture    150         3        1003   \n",
       "3        4      Headphones  Electronics    100         4        1004   \n",
       "4        5            Desk    Furniture    200         1        1005   \n",
       "5        6  Gaming Console  Electronics    300         1        1006   \n",
       "6        7            Sofa          NaN    500         2        1007   \n",
       "\n",
       "    OrderDate  Rating  Discount         City Country ReturnStatus  \\\n",
       "0  01-10-2024     4.5      0.10     New York     USA     Returned   \n",
       "1  03-10-2024     4.2      0.15  Los Angeles     USA    Completed   \n",
       "2  10-10-2024     4.0      0.05      Toronto  Canada    Completed   \n",
       "3  12-10-2024     3.8      0.20     New York     USA     Returned   \n",
       "4  15-10-2024     NaN       NaN       London      UK    Completed   \n",
       "5  20-10-2024     4.6      0.05      Chicago     USA    Completed   \n",
       "6  25-10-2024     4.4      0.15      Toronto  Canada    Completed   \n",
       "\n",
       "  PaymentMethod  \n",
       "0   Credit Card  \n",
       "1        PayPal  \n",
       "2    Debit Card  \n",
       "3   Credit Card  \n",
       "4   Credit Card  \n",
       "5        PayPal  \n",
       "6    Debit Card  "
      ]
     },
     "execution_count": 90,
     "metadata": {},
     "output_type": "execute_result"
    }
   ],
   "source": [
    "import pandas as pd\n",
    "ecomdata=pd.read_csv(\"E:/DataSets New/ecommerce_data_advanced.csv\")\n",
    "ecomdata"
   ]
  },
  {
   "cell_type": "code",
   "execution_count": 92,
   "id": "5af69326-342d-49ad-ad1e-4e8530b05b6c",
   "metadata": {},
   "outputs": [
    {
     "name": "stdout",
     "output_type": "stream",
     "text": [
      "   OrderID         Product     Category  Price  Quantity  CustomerID  \\\n",
      "0        1          Laptop  Electronics    800         1        1001   \n",
      "1        2           Phone  Electronics    500         2        1002   \n",
      "2        3           Chair    Furniture    150         3        1003   \n",
      "3        4      Headphones  Electronics    100         4        1004   \n",
      "5        6  Gaming Console  Electronics    300         1        1006   \n",
      "\n",
      "    OrderDate  Rating  Discount         City Country ReturnStatus  \\\n",
      "0  01-10-2024     4.5      0.10     New York     USA     Returned   \n",
      "1  03-10-2024     4.2      0.15  Los Angeles     USA    Completed   \n",
      "2  10-10-2024     4.0      0.05      Toronto  Canada    Completed   \n",
      "3  12-10-2024     3.8      0.20     New York     USA     Returned   \n",
      "5  20-10-2024     4.6      0.05      Chicago     USA    Completed   \n",
      "\n",
      "  PaymentMethod  \n",
      "0   Credit Card  \n",
      "1        PayPal  \n",
      "2    Debit Card  \n",
      "3   Credit Card  \n",
      "5        PayPal  \n"
     ]
    }
   ],
   "source": [
    "print(ecomdata.dropna(axis=0))"
   ]
  },
  {
   "cell_type": "code",
   "execution_count": 94,
   "id": "fd5b8df5-5427-4a0d-a6a2-1c9bbccc182f",
   "metadata": {},
   "outputs": [
    {
     "name": "stdout",
     "output_type": "stream",
     "text": [
      "   OrderID         Product     Category  Price  Quantity  CustomerID  \\\n",
      "0        1          Laptop  Electronics    800         1        1001   \n",
      "1        2           Phone  Electronics    500         2        1002   \n",
      "2        3           Chair    Furniture    150         3        1003   \n",
      "3        4      Headphones  Electronics    100         4        1004   \n",
      "4        5            Desk    Furniture    200         1        1005   \n",
      "5        6  Gaming Console  Electronics    300         1        1006   \n",
      "6        7            Sofa          NaN    500         2        1007   \n",
      "\n",
      "    OrderDate  Rating  Discount         City Country ReturnStatus  \\\n",
      "0  01-10-2024     4.5     0.100     New York     USA     Returned   \n",
      "1  03-10-2024     4.2     0.150  Los Angeles     USA    Completed   \n",
      "2  10-10-2024     4.0     0.050      Toronto  Canada    Completed   \n",
      "3  12-10-2024     3.8     0.200     New York     USA     Returned   \n",
      "4  15-10-2024     4.2     0.125       London      UK    Completed   \n",
      "5  20-10-2024     4.6     0.050      Chicago     USA    Completed   \n",
      "6  25-10-2024     4.4     0.150      Toronto  Canada    Completed   \n",
      "\n",
      "  PaymentMethod  \n",
      "0   Credit Card  \n",
      "1        PayPal  \n",
      "2    Debit Card  \n",
      "3   Credit Card  \n",
      "4   Credit Card  \n",
      "5        PayPal  \n",
      "6    Debit Card  \n"
     ]
    }
   ],
   "source": [
    "ecomdata['Discount']=ecomdata['Discount'].interpolate(method='linear')\n",
    "ecomdata['Rating']=ecomdata['Rating'].interpolate(method='linear')\n",
    "print(ecomdata)"
   ]
  },
  {
   "cell_type": "code",
   "execution_count": 96,
   "id": "ab8c1b01-757b-4005-9d1a-38786d59363b",
   "metadata": {},
   "outputs": [
    {
     "name": "stdout",
     "output_type": "stream",
     "text": [
      "Numerical Values\n",
      "   OrderID  Price  Quantity  CustomerID  Rating  Discount\n",
      "0        1    800         1        1001     4.5     0.100\n",
      "1        2    500         2        1002     4.2     0.150\n",
      "2        3    150         3        1003     4.0     0.050\n",
      "3        4    100         4        1004     3.8     0.200\n",
      "4        5    200         1        1005     4.2     0.125\n",
      "5        6    300         1        1006     4.6     0.050\n",
      "6        7    500         2        1007     4.4     0.150\n",
      "Categorical Values\n",
      "          Product     Category   OrderDate         City Country ReturnStatus  \\\n",
      "0          Laptop  Electronics  01-10-2024     New York     USA     Returned   \n",
      "1           Phone  Electronics  03-10-2024  Los Angeles     USA    Completed   \n",
      "2           Chair    Furniture  10-10-2024      Toronto  Canada    Completed   \n",
      "3      Headphones  Electronics  12-10-2024     New York     USA     Returned   \n",
      "4            Desk    Furniture  15-10-2024       London      UK    Completed   \n",
      "5  Gaming Console  Electronics  20-10-2024      Chicago     USA    Completed   \n",
      "6            Sofa          NaN  25-10-2024      Toronto  Canada    Completed   \n",
      "\n",
      "  PaymentMethod  \n",
      "0   Credit Card  \n",
      "1        PayPal  \n",
      "2    Debit Card  \n",
      "3   Credit Card  \n",
      "4   Credit Card  \n",
      "5        PayPal  \n",
      "6    Debit Card  \n"
     ]
    }
   ],
   "source": [
    "#Numerical Values\n",
    "numerical_values=ecomdata.select_dtypes(include=['int64','float64'])\n",
    "categorical_values=ecomdata.select_dtypes(include=['object','category'])\n",
    "print(\"Numerical Values\")\n",
    "print(numerical_values)\n",
    "print(\"Categorical Values\")\n",
    "print(categorical_values)"
   ]
  },
  {
   "cell_type": "code",
   "execution_count": 98,
   "id": "2c34ea9f-40e1-49be-825b-e58619722bea",
   "metadata": {},
   "outputs": [
    {
     "data": {
      "text/plain": [
       "OrderID          0\n",
       "Product          0\n",
       "Category         1\n",
       "Price            0\n",
       "Quantity         0\n",
       "CustomerID       0\n",
       "OrderDate        0\n",
       "Rating           0\n",
       "Discount         0\n",
       "City             0\n",
       "Country          0\n",
       "ReturnStatus     0\n",
       "PaymentMethod    0\n",
       "dtype: int64"
      ]
     },
     "execution_count": 98,
     "metadata": {},
     "output_type": "execute_result"
    }
   ],
   "source": [
    "ecomdata.isnull().sum()"
   ]
  },
  {
   "cell_type": "code",
   "execution_count": 100,
   "id": "13a544f3-5597-413e-94c0-882bad89bea4",
   "metadata": {},
   "outputs": [
    {
     "name": "stdout",
     "output_type": "stream",
     "text": [
      "   OrderID         Product     Category  Price  Quantity  CustomerID  \\\n",
      "0        1          Laptop  Electronics    800         1        1001   \n",
      "1        2           Phone  Electronics    500         2        1002   \n",
      "2        3           Chair    Furniture    150         3        1003   \n",
      "3        4      Headphones  Electronics    100         4        1004   \n",
      "4        5            Desk    Furniture    200         1        1005   \n",
      "5        6  Gaming Console  Electronics    300         1        1006   \n",
      "6        7            Sofa      Unknown    500         2        1007   \n",
      "\n",
      "    OrderDate  Rating  Discount         City Country ReturnStatus  \\\n",
      "0  01-10-2024     4.5     0.100     New York     USA     Returned   \n",
      "1  03-10-2024     4.2     0.150  Los Angeles     USA    Completed   \n",
      "2  10-10-2024     4.0     0.050      Toronto  Canada    Completed   \n",
      "3  12-10-2024     3.8     0.200     New York     USA     Returned   \n",
      "4  15-10-2024     4.2     0.125       London      UK    Completed   \n",
      "5  20-10-2024     4.6     0.050      Chicago     USA    Completed   \n",
      "6  25-10-2024     4.4     0.150      Toronto  Canada    Completed   \n",
      "\n",
      "  PaymentMethod  \n",
      "0   Credit Card  \n",
      "1        PayPal  \n",
      "2    Debit Card  \n",
      "3   Credit Card  \n",
      "4   Credit Card  \n",
      "5        PayPal  \n",
      "6    Debit Card  \n"
     ]
    }
   ],
   "source": [
    "ecomdata['Category']=ecomdata.Category.fillna(\"Unknown\")\n",
    "print(ecomdata)"
   ]
  },
  {
   "cell_type": "markdown",
   "id": "510becf5-7421-44d5-8dfd-af91bc5f8100",
   "metadata": {},
   "source": [
    "Advanced Data Transformations"
   ]
  },
  {
   "cell_type": "code",
   "execution_count": 103,
   "id": "f7730364-d4b7-4f5d-ba07-b4aeaa75a173",
   "metadata": {},
   "outputs": [
    {
     "name": "stdout",
     "output_type": "stream",
     "text": [
      "   OrderID         Product     Category  Price  Quantity  CustomerID  \\\n",
      "0        1          Laptop  Electronics    800         1        1001   \n",
      "1        2           Phone  Electronics    500         2        1002   \n",
      "2        3           Chair    Furniture    150         3        1003   \n",
      "3        4      Headphones  Electronics    100         4        1004   \n",
      "4        5            Desk    Furniture    200         1        1005   \n",
      "5        6  Gaming Console  Electronics    300         1        1006   \n",
      "6        7            Sofa      Unknown    500         2        1007   \n",
      "\n",
      "    OrderDate  Rating  Discount         City Country ReturnStatus  \\\n",
      "0  01-10-2024     4.5     0.100     New York     USA     Returned   \n",
      "1  03-10-2024     4.2     0.150  Los Angeles     USA    Completed   \n",
      "2  10-10-2024     4.0     0.050      Toronto  Canada    Completed   \n",
      "3  12-10-2024     3.8     0.200     New York     USA     Returned   \n",
      "4  15-10-2024     4.2     0.125       London      UK    Completed   \n",
      "5  20-10-2024     4.6     0.050      Chicago     USA    Completed   \n",
      "6  25-10-2024     4.4     0.150      Toronto  Canada    Completed   \n",
      "\n",
      "  PaymentMethod  EffectivePrice  \n",
      "0   Credit Card         799.900  \n",
      "1        PayPal         999.850  \n",
      "2    Debit Card         449.950  \n",
      "3   Credit Card         399.800  \n",
      "4   Credit Card         199.875  \n",
      "5        PayPal         299.950  \n",
      "6    Debit Card         999.850  \n"
     ]
    }
   ],
   "source": [
    "ecomdata['EffectivePrice']=ecomdata['Price']*ecomdata['Quantity']*1-ecomdata['Discount']\n",
    "print(ecomdata)"
   ]
  },
  {
   "cell_type": "code",
   "execution_count": 105,
   "id": "4460236a-1da5-4e7c-b692-75b978158724",
   "metadata": {},
   "outputs": [
    {
     "name": "stdout",
     "output_type": "stream",
     "text": [
      "   OrderID         Product     Category  Price  Quantity  CustomerID  \\\n",
      "0        1          Laptop  Electronics    800         1        1001   \n",
      "1        2           Phone  Electronics    500         2        1002   \n",
      "2        3           Chair    Furniture    150         3        1003   \n",
      "3        4      Headphones  Electronics    100         4        1004   \n",
      "4        5            Desk    Furniture    200         1        1005   \n",
      "5        6  Gaming Console  Electronics    300         1        1006   \n",
      "6        7            Sofa      Unknown    500         2        1007   \n",
      "\n",
      "    OrderDate  Rating  Discount         City Country ReturnStatus  \\\n",
      "0  01-10-2024     4.5     0.100     New York     USA     Returned   \n",
      "1  03-10-2024     4.2     0.150  Los Angeles     USA    Completed   \n",
      "2  10-10-2024     4.0     0.050      Toronto  Canada    Completed   \n",
      "3  12-10-2024     3.8     0.200     New York     USA     Returned   \n",
      "4  15-10-2024     4.2     0.125       London      UK    Completed   \n",
      "5  20-10-2024     4.6     0.050      Chicago     USA    Completed   \n",
      "6  25-10-2024     4.4     0.150      Toronto  Canada    Completed   \n",
      "\n",
      "  PaymentMethod  EffectivePrice  \n",
      "0   Credit Card        1149.900  \n",
      "1        PayPal        1349.850  \n",
      "2    Debit Card         799.950  \n",
      "3   Credit Card         749.800  \n",
      "4   Credit Card         549.875  \n",
      "5        PayPal         649.950  \n",
      "6    Debit Card        1349.850  \n"
     ]
    }
   ],
   "source": [
    "ecomdata['EffectivePrice']=ecomdata['EffectivePrice']+350\n",
    "print(ecomdata)"
   ]
  },
  {
   "cell_type": "code",
   "execution_count": 119,
   "id": "889df3fd-44dc-4a57-8584-ca8888f69fc9",
   "metadata": {},
   "outputs": [
    {
     "name": "stdout",
     "output_type": "stream",
     "text": [
      "   OrderID         Product     Category  Price  Quantity  CustomerID  \\\n",
      "0        1          Laptop  Electronics    800         1        1001   \n",
      "1        2           Phone  Electronics    500         2        1002   \n",
      "2        3           Chair    Furniture    150         3        1003   \n",
      "3        4      Headphones  Electronics    100         4        1004   \n",
      "4        5            Desk    Furniture    200         1        1005   \n",
      "5        6  Gaming Console  Electronics    300         1        1006   \n",
      "6        7            Sofa      Unknown    500         2        1007   \n",
      "\n",
      "    OrderDate  Rating  Discount         City Country ReturnStatus  \\\n",
      "0  01-10-2024     4.5     0.100     New York     USA     Returned   \n",
      "1  03-10-2024     4.2     0.150  Los Angeles     USA    Completed   \n",
      "2  10-10-2024     4.0     0.050      Toronto  Canada    Completed   \n",
      "3  12-10-2024     3.8     0.200     New York     USA     Returned   \n",
      "4  15-10-2024     4.2     0.125       London      UK    Completed   \n",
      "5  20-10-2024     4.6     0.050      Chicago     USA    Completed   \n",
      "6  25-10-2024     4.4     0.150      Toronto  Canada    Completed   \n",
      "\n",
      "  PaymentMethod  EffectivePrice CustomerType  \n",
      "0   Credit Card        1149.900      Premium  \n",
      "1        PayPal         350.000     Standard  \n",
      "2    Debit Card         799.950      Economy  \n",
      "3   Credit Card         749.800      Economy  \n",
      "4   Credit Card         549.875      Economy  \n",
      "5        PayPal         649.950      Economy  \n",
      "6    Debit Card         350.000     Standard  \n"
     ]
    }
   ],
   "source": [
    "ecomdata['CustomerType']=ecomdata['EffectivePrice'].apply(lambda x:\"Premium\" if x>1000\n",
    "                                                          else( \"Standard\" if 500>=x<1000 else \"Economy\"))\n",
    "print(ecomdata)"
   ]
  },
  {
   "cell_type": "code",
   "execution_count": 121,
   "id": "fc1576a5-ad9e-4fed-a611-5eb000158aae",
   "metadata": {},
   "outputs": [
    {
     "name": "stdout",
     "output_type": "stream",
     "text": [
      "0    1149.900\n",
      "1     350.000\n",
      "2     799.950\n",
      "3     749.800\n",
      "4     549.875\n",
      "5     649.950\n",
      "6     350.000\n",
      "Name: EffectivePrice, dtype: float64\n"
     ]
    }
   ],
   "source": [
    "ecomdata.loc[ecomdata['EffectivePrice']==1349.850,'EffectivePrice']=350\n",
    "print(ecomdata['EffectivePrice'])"
   ]
  },
  {
   "cell_type": "code",
   "execution_count": 123,
   "id": "1fc7a127-3e97-49bd-bc0e-0d43ed31294c",
   "metadata": {},
   "outputs": [
    {
     "name": "stdout",
     "output_type": "stream",
     "text": [
      "   OrderID         Product     Category  Price  Quantity  CustomerID  \\\n",
      "0        1          Laptop  Electronics    800         1        1001   \n",
      "1        2           Phone  Electronics    500         2        1002   \n",
      "2        3           Chair    Furniture    150         3        1003   \n",
      "3        4      Headphones  Electronics    100         4        1004   \n",
      "4        5            Desk    Furniture    200         1        1005   \n",
      "5        6  Gaming Console  Electronics    300         1        1006   \n",
      "6        7            Sofa      Unknown    500         2        1007   \n",
      "\n",
      "    OrderDate  Rating  Discount         City Country ReturnStatus  \\\n",
      "0  01-10-2024     4.5     0.100     New York     USA     Returned   \n",
      "1  03-10-2024     4.2     0.150  Los Angeles     USA    Completed   \n",
      "2  10-10-2024     4.0     0.050      Toronto  Canada    Completed   \n",
      "3  12-10-2024     3.8     0.200     New York     USA     Returned   \n",
      "4  15-10-2024     4.2     0.125       London      UK    Completed   \n",
      "5  20-10-2024     4.6     0.050      Chicago     USA    Completed   \n",
      "6  25-10-2024     4.4     0.150      Toronto  Canada    Completed   \n",
      "\n",
      "  PaymentMethod  EffectivePrice CustomerType  \n",
      "0   Credit Card        1149.900      Premium  \n",
      "1        PayPal         350.000     Standard  \n",
      "2    Debit Card         799.950      Economy  \n",
      "3   Credit Card         749.800      Economy  \n",
      "4   Credit Card         549.875      Economy  \n",
      "5        PayPal         649.950      Economy  \n",
      "6    Debit Card         350.000     Standard  \n"
     ]
    }
   ],
   "source": [
    "print(ecomdata)"
   ]
  },
  {
   "cell_type": "markdown",
   "id": "56b18b13-a225-4760-9724-64ccf2ff71d7",
   "metadata": {},
   "source": [
    "Data Insights and Queries"
   ]
  },
  {
   "cell_type": "code",
   "execution_count": 142,
   "id": "e7f4fbf3-9cf5-4a3e-9cf3-f72208dd7476",
   "metadata": {},
   "outputs": [
    {
     "name": "stdout",
     "output_type": "stream",
     "text": [
      "Category\n",
      "Electronics    2899.650\n",
      "Furniture      1349.825\n",
      "Unknown         350.000\n",
      "Name: EffectivePrice, dtype: float64\n"
     ]
    }
   ],
   "source": [
    "ecomdata_totalrevenue=ecomdata.groupby('Category')['EffectivePrice'].sum()\n",
    "print(ecomdata_totalrevenue)"
   ]
  },
  {
   "cell_type": "code",
   "execution_count": 175,
   "id": "80036a4d-6540-4d22-9087-53a2850e6d62",
   "metadata": {},
   "outputs": [
    {
     "name": "stdout",
     "output_type": "stream",
     "text": [
      "   OrderID         Product     Category  Price  Quantity  CustomerID  \\\n",
      "0        1          Laptop  Electronics    800         1        1001   \n",
      "1        2           Phone  Electronics    500         2        1002   \n",
      "2        3           Chair    Furniture    150         3        1003   \n",
      "3        4      Headphones  Electronics    100         4        1004   \n",
      "4        5            Desk    Furniture    200         1        1005   \n",
      "5        6  Gaming Console  Electronics    300         1        1006   \n",
      "6        7            Sofa      Unknown    500         2        1007   \n",
      "\n",
      "    OrderDate  Rating  Discount         City Country ReturnStatus  \\\n",
      "0  01-10-2024     4.5     0.100     New York     USA     Returned   \n",
      "1  03-10-2024     4.2     0.150  Los Angeles     USA    Completed   \n",
      "2  10-10-2024     4.0     0.050      Toronto  Canada    Completed   \n",
      "3  12-10-2024     3.8     0.200     New York     USA     Returned   \n",
      "4  15-10-2024     4.2     0.125       London      UK    Completed   \n",
      "5  20-10-2024     4.6     0.050      Chicago     USA    Completed   \n",
      "6  25-10-2024     4.4     0.150      Toronto  Canada    Completed   \n",
      "\n",
      "  PaymentMethod  EffectivePrice CustomerType  TotalRevenue  \n",
      "0   Credit Card        1149.900      Premium      2899.650  \n",
      "1        PayPal         350.000     Standard      2899.650  \n",
      "2    Debit Card         799.950      Economy      1349.825  \n",
      "3   Credit Card         749.800      Economy      2899.650  \n",
      "4   Credit Card         549.875      Economy      1349.825  \n",
      "5        PayPal         649.950      Economy      2899.650  \n",
      "6    Debit Card         350.000     Standard       350.000  \n"
     ]
    }
   ],
   "source": [
    "ecomdata['TotalRevenue']=ecomdata['Category'].map(ecomdata_totalrevenue)\n",
    "print(ecomdata)"
   ]
  },
  {
   "cell_type": "code",
   "execution_count": 144,
   "id": "a3a7aed4-c8cb-4046-ad26-777f20b9af9d",
   "metadata": {},
   "outputs": [
    {
     "name": "stdout",
     "output_type": "stream",
     "text": [
      "Category\n",
      "Electronics    4.275\n",
      "Furniture      4.100\n",
      "Unknown        4.400\n",
      "Name: Rating, dtype: float64\n"
     ]
    }
   ],
   "source": [
    "ecomdata_averagerating=ecomdata.groupby('Category')['Rating'].mean()\n",
    "print(ecomdata_averagerating)"
   ]
  },
  {
   "cell_type": "code",
   "execution_count": 182,
   "id": "f37d64a9-7065-4888-9b27-80d88650079e",
   "metadata": {},
   "outputs": [
    {
     "name": "stdout",
     "output_type": "stream",
     "text": [
      "   OrderID         Product     Category  Price  Quantity  CustomerID  \\\n",
      "0        1          Laptop  Electronics    800         1        1001   \n",
      "1        2           Phone  Electronics    500         2        1002   \n",
      "2        3           Chair    Furniture    150         3        1003   \n",
      "3        4      Headphones  Electronics    100         4        1004   \n",
      "4        5            Desk    Furniture    200         1        1005   \n",
      "5        6  Gaming Console  Electronics    300         1        1006   \n",
      "6        7            Sofa      Unknown    500         2        1007   \n",
      "\n",
      "    OrderDate  Rating  Discount         City Country ReturnStatus  \\\n",
      "0  01-10-2024     4.5     0.100     New York     USA     Returned   \n",
      "1  03-10-2024     4.2     0.150  Los Angeles     USA    Completed   \n",
      "2  10-10-2024     4.0     0.050      Toronto  Canada    Completed   \n",
      "3  12-10-2024     3.8     0.200     New York     USA     Returned   \n",
      "4  15-10-2024     4.2     0.125       London      UK    Completed   \n",
      "5  20-10-2024     4.6     0.050      Chicago     USA    Completed   \n",
      "6  25-10-2024     4.4     0.150      Toronto  Canada    Completed   \n",
      "\n",
      "  PaymentMethod  EffectivePrice CustomerType  TotalRevenue  AverageRating  \n",
      "0   Credit Card        1149.900      Premium      2899.650          4.275  \n",
      "1        PayPal         350.000     Standard      2899.650          4.275  \n",
      "2    Debit Card         799.950      Economy      1349.825          4.100  \n",
      "3   Credit Card         749.800      Economy      2899.650          4.275  \n",
      "4   Credit Card         549.875      Economy      1349.825          4.100  \n",
      "5        PayPal         649.950      Economy      2899.650          4.275  \n",
      "6    Debit Card         350.000     Standard       350.000          4.400  \n"
     ]
    }
   ],
   "source": [
    "ecomdata['AverageRating']=ecomdata['Category'].map(ecomdata_averagerating)\n",
    "print(ecomdata)"
   ]
  },
  {
   "cell_type": "code",
   "execution_count": 190,
   "id": "82b5f3ac-a5ef-4387-b0df-19c4e23a9f4c",
   "metadata": {},
   "outputs": [
    {
     "name": "stdout",
     "output_type": "stream",
     "text": [
      "New York\n"
     ]
    }
   ],
   "source": [
    "highest_revenuecity=ecomdata.sort_values(by=['TotalRevenue'],ascending=[True])\n",
    "print(highest_revenuecity.City.loc[0])"
   ]
  },
  {
   "cell_type": "code",
   "execution_count": 192,
   "id": "e2291536-fbf3-4f24-97a4-d471bb7b54d5",
   "metadata": {},
   "outputs": [
    {
     "name": "stdout",
     "output_type": "stream",
     "text": [
      "Category\n",
      "Electronics    3\n",
      "Furniture      1\n",
      "Unknown        1\n",
      "Name: CustomerType, dtype: int64\n"
     ]
    }
   ],
   "source": [
    "ecomdata_uniquecustomers=ecomdata.groupby('Category')['CustomerType'].nunique()\n",
    "print(ecomdata_uniquecustomers)"
   ]
  },
  {
   "cell_type": "code",
   "execution_count": null,
   "id": "58bc731c-ef71-4842-a6c9-4969e742fa01",
   "metadata": {},
   "outputs": [],
   "source": []
  },
  {
   "cell_type": "code",
   "execution_count": 152,
   "id": "ea5f2704-fe6e-49c8-b1e8-81a2ccd115e3",
   "metadata": {},
   "outputs": [
    {
     "name": "stdout",
     "output_type": "stream",
     "text": [
      "4.275\n",
      "4.1\n",
      "4.4\n"
     ]
    },
    {
     "name": "stderr",
     "output_type": "stream",
     "text": [
      "C:\\Users\\Govindu Vijay Kumar\\AppData\\Local\\Temp\\ipykernel_6764\\2587701848.py:1: FutureWarning: Series.__getitem__ treating keys as positions is deprecated. In a future version, integer keys will always be treated as labels (consistent with DataFrame behavior). To access a value by position, use `ser.iloc[pos]`\n",
      "  print(ecomdata_averagerating[0])\n",
      "C:\\Users\\Govindu Vijay Kumar\\AppData\\Local\\Temp\\ipykernel_6764\\2587701848.py:2: FutureWarning: Series.__getitem__ treating keys as positions is deprecated. In a future version, integer keys will always be treated as labels (consistent with DataFrame behavior). To access a value by position, use `ser.iloc[pos]`\n",
      "  print(ecomdata_averagerating[1])\n",
      "C:\\Users\\Govindu Vijay Kumar\\AppData\\Local\\Temp\\ipykernel_6764\\2587701848.py:3: FutureWarning: Series.__getitem__ treating keys as positions is deprecated. In a future version, integer keys will always be treated as labels (consistent with DataFrame behavior). To access a value by position, use `ser.iloc[pos]`\n",
      "  print(ecomdata_averagerating[2])\n"
     ]
    }
   ],
   "source": [
    "print(ecomdata_averagerating[0])\n",
    "print(ecomdata_averagerating[1])\n",
    "print(ecomdata_averagerating[2])"
   ]
  },
  {
   "cell_type": "code",
   "execution_count": 206,
   "id": "79f6de65-2d0a-46a9-8675-588ef25d79ec",
   "metadata": {},
   "outputs": [
    {
     "name": "stdout",
     "output_type": "stream",
     "text": [
      "   OrderID     Product     Category  Price  Quantity  CustomerID   OrderDate  \\\n",
      "1        2       Phone  Electronics    500         2        1002  03-10-2024   \n",
      "2        3       Chair    Furniture    150         3        1003  10-10-2024   \n",
      "3        4  Headphones  Electronics    100         4        1004  12-10-2024   \n",
      "\n",
      "   Rating  Discount         City Country ReturnStatus PaymentMethod  \\\n",
      "1     4.2      0.15  Los Angeles     USA    Completed        PayPal   \n",
      "2     4.0      0.05      Toronto  Canada    Completed    Debit Card   \n",
      "3     3.8      0.20     New York     USA     Returned   Credit Card   \n",
      "\n",
      "   EffectivePrice CustomerType  TotalRevenue  AverageRating  \n",
      "1          350.00     Standard      2899.650          4.275  \n",
      "2          799.95      Economy      1349.825          4.100  \n",
      "3          749.80      Economy      2899.650          4.275  \n"
     ]
    }
   ],
   "source": [
    "belowavgrating=ecomdata[ecomdata['Rating']<ecomdata['AverageRating']]\n",
    "print(belowavgrating)"
   ]
  },
  {
   "cell_type": "code",
   "execution_count": 212,
   "id": "2b6b366d-b6f9-4c3d-9502-0341e814d1c2",
   "metadata": {},
   "outputs": [
    {
     "name": "stdout",
     "output_type": "stream",
     "text": [
      "5799.3\n"
     ]
    }
   ],
   "source": [
    "#ecomdata.['ReturnStatus'] #returned\n",
    "refundamount=ecomdata.groupby('ReturnStatus')['TotalRevenue'].sum()\n",
    "print(refundamount.Returned)"
   ]
  },
  {
   "cell_type": "code",
   "execution_count": null,
   "id": "2e5a0457-95fa-4e29-982e-4755b37a23ff",
   "metadata": {},
   "outputs": [],
   "source": []
  }
 ],
 "metadata": {
  "kernelspec": {
   "display_name": "Python 3 (ipykernel)",
   "language": "python",
   "name": "python3"
  },
  "language_info": {
   "codemirror_mode": {
    "name": "ipython",
    "version": 3
   },
   "file_extension": ".py",
   "mimetype": "text/x-python",
   "name": "python",
   "nbconvert_exporter": "python",
   "pygments_lexer": "ipython3",
   "version": "3.12.7"
  }
 },
 "nbformat": 4,
 "nbformat_minor": 5
}
