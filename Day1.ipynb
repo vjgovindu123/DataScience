{
 "cells": [
  {
   "cell_type": "markdown",
   "id": "065c72a0",
   "metadata": {},
   "source": [
    "This Data Analysis is performed using the reference attached to the Comprehensive Data Analysis with Pandas.docx file and steps involved in the analysis are mentioned in README.md file"
   ]
  },
  {
   "cell_type": "markdown",
   "id": "054fbbb4",
   "metadata": {},
   "source": [
    "Step1: Data Preparation"
   ]
  },
  {
   "cell_type": "code",
   "execution_count": 1,
   "id": "0bc8d01a",
   "metadata": {},
   "outputs": [
    {
     "name": "stdout",
     "output_type": "stream",
     "text": [
      "Requirement already satisfied: pandas in c:\\users\\govindu vijay kumar\\anaconda3\\envs\\notebook\\lib\\site-packages (2.2.3)\n",
      "Requirement already satisfied: numpy>=1.23.2 in c:\\users\\govindu vijay kumar\\anaconda3\\envs\\notebook\\lib\\site-packages (from pandas) (2.1.3)\n",
      "Requirement already satisfied: python-dateutil>=2.8.2 in c:\\users\\govindu vijay kumar\\anaconda3\\envs\\notebook\\lib\\site-packages (from pandas) (2.9.0.post0)\n",
      "Requirement already satisfied: pytz>=2020.1 in c:\\users\\govindu vijay kumar\\anaconda3\\envs\\notebook\\lib\\site-packages (from pandas) (2024.2)\n",
      "Requirement already satisfied: tzdata>=2022.7 in c:\\users\\govindu vijay kumar\\anaconda3\\envs\\notebook\\lib\\site-packages (from pandas) (2024.2)\n",
      "Requirement already satisfied: six>=1.5 in c:\\users\\govindu vijay kumar\\anaconda3\\envs\\notebook\\lib\\site-packages (from python-dateutil>=2.8.2->pandas) (1.16.0)\n",
      "Note: you may need to restart the kernel to use updated packages.\n"
     ]
    }
   ],
   "source": [
    "pip install pandas"
   ]
  },
  {
   "cell_type": "code",
   "execution_count": 2,
   "id": "4574372b-6e37-4c9b-b51f-ad3cc606000f",
   "metadata": {},
   "outputs": [
    {
     "data": {
      "text/html": [
       "<div>\n",
       "<style scoped>\n",
       "    .dataframe tbody tr th:only-of-type {\n",
       "        vertical-align: middle;\n",
       "    }\n",
       "\n",
       "    .dataframe tbody tr th {\n",
       "        vertical-align: top;\n",
       "    }\n",
       "\n",
       "    .dataframe thead th {\n",
       "        text-align: right;\n",
       "    }\n",
       "</style>\n",
       "<table border=\"1\" class=\"dataframe\">\n",
       "  <thead>\n",
       "    <tr style=\"text-align: right;\">\n",
       "      <th></th>\n",
       "      <th>OrderID</th>\n",
       "      <th>Product</th>\n",
       "      <th>Category</th>\n",
       "      <th>Price</th>\n",
       "      <th>Quantity</th>\n",
       "      <th>CustomerID</th>\n",
       "      <th>OrderDate</th>\n",
       "      <th>Rating</th>\n",
       "      <th>Discount</th>\n",
       "      <th>City</th>\n",
       "      <th>Country</th>\n",
       "      <th>ReturnStatus</th>\n",
       "      <th>PaymentMethod</th>\n",
       "    </tr>\n",
       "  </thead>\n",
       "  <tbody>\n",
       "    <tr>\n",
       "      <th>0</th>\n",
       "      <td>1</td>\n",
       "      <td>Laptop</td>\n",
       "      <td>Electronics</td>\n",
       "      <td>800</td>\n",
       "      <td>1</td>\n",
       "      <td>1001</td>\n",
       "      <td>01-10-2024</td>\n",
       "      <td>4.5</td>\n",
       "      <td>0.10</td>\n",
       "      <td>New York</td>\n",
       "      <td>USA</td>\n",
       "      <td>Returned</td>\n",
       "      <td>Credit Card</td>\n",
       "    </tr>\n",
       "    <tr>\n",
       "      <th>1</th>\n",
       "      <td>2</td>\n",
       "      <td>Phone</td>\n",
       "      <td>Electronics</td>\n",
       "      <td>500</td>\n",
       "      <td>2</td>\n",
       "      <td>1002</td>\n",
       "      <td>03-10-2024</td>\n",
       "      <td>4.2</td>\n",
       "      <td>0.15</td>\n",
       "      <td>Los Angeles</td>\n",
       "      <td>USA</td>\n",
       "      <td>Completed</td>\n",
       "      <td>PayPal</td>\n",
       "    </tr>\n",
       "    <tr>\n",
       "      <th>2</th>\n",
       "      <td>3</td>\n",
       "      <td>Chair</td>\n",
       "      <td>Furniture</td>\n",
       "      <td>150</td>\n",
       "      <td>3</td>\n",
       "      <td>1003</td>\n",
       "      <td>10-10-2024</td>\n",
       "      <td>4.0</td>\n",
       "      <td>0.05</td>\n",
       "      <td>Toronto</td>\n",
       "      <td>Canada</td>\n",
       "      <td>Completed</td>\n",
       "      <td>Debit Card</td>\n",
       "    </tr>\n",
       "    <tr>\n",
       "      <th>3</th>\n",
       "      <td>4</td>\n",
       "      <td>Headphones</td>\n",
       "      <td>Electronics</td>\n",
       "      <td>100</td>\n",
       "      <td>4</td>\n",
       "      <td>1004</td>\n",
       "      <td>12-10-2024</td>\n",
       "      <td>3.8</td>\n",
       "      <td>0.20</td>\n",
       "      <td>New York</td>\n",
       "      <td>USA</td>\n",
       "      <td>Returned</td>\n",
       "      <td>Credit Card</td>\n",
       "    </tr>\n",
       "    <tr>\n",
       "      <th>4</th>\n",
       "      <td>5</td>\n",
       "      <td>Desk</td>\n",
       "      <td>Furniture</td>\n",
       "      <td>200</td>\n",
       "      <td>1</td>\n",
       "      <td>1005</td>\n",
       "      <td>15-10-2024</td>\n",
       "      <td>NaN</td>\n",
       "      <td>NaN</td>\n",
       "      <td>London</td>\n",
       "      <td>UK</td>\n",
       "      <td>Completed</td>\n",
       "      <td>Credit Card</td>\n",
       "    </tr>\n",
       "    <tr>\n",
       "      <th>5</th>\n",
       "      <td>6</td>\n",
       "      <td>Gaming Console</td>\n",
       "      <td>Electronics</td>\n",
       "      <td>300</td>\n",
       "      <td>1</td>\n",
       "      <td>1006</td>\n",
       "      <td>20-10-2024</td>\n",
       "      <td>4.6</td>\n",
       "      <td>0.05</td>\n",
       "      <td>Chicago</td>\n",
       "      <td>USA</td>\n",
       "      <td>Completed</td>\n",
       "      <td>PayPal</td>\n",
       "    </tr>\n",
       "    <tr>\n",
       "      <th>6</th>\n",
       "      <td>7</td>\n",
       "      <td>Sofa</td>\n",
       "      <td>NaN</td>\n",
       "      <td>500</td>\n",
       "      <td>2</td>\n",
       "      <td>1007</td>\n",
       "      <td>25-10-2024</td>\n",
       "      <td>4.4</td>\n",
       "      <td>0.15</td>\n",
       "      <td>Toronto</td>\n",
       "      <td>Canada</td>\n",
       "      <td>Completed</td>\n",
       "      <td>Debit Card</td>\n",
       "    </tr>\n",
       "  </tbody>\n",
       "</table>\n",
       "</div>"
      ],
      "text/plain": [
       "   OrderID         Product     Category  Price  Quantity  CustomerID  \\\n",
       "0        1          Laptop  Electronics    800         1        1001   \n",
       "1        2           Phone  Electronics    500         2        1002   \n",
       "2        3           Chair    Furniture    150         3        1003   \n",
       "3        4      Headphones  Electronics    100         4        1004   \n",
       "4        5            Desk    Furniture    200         1        1005   \n",
       "5        6  Gaming Console  Electronics    300         1        1006   \n",
       "6        7            Sofa          NaN    500         2        1007   \n",
       "\n",
       "    OrderDate  Rating  Discount         City Country ReturnStatus  \\\n",
       "0  01-10-2024     4.5      0.10     New York     USA     Returned   \n",
       "1  03-10-2024     4.2      0.15  Los Angeles     USA    Completed   \n",
       "2  10-10-2024     4.0      0.05      Toronto  Canada    Completed   \n",
       "3  12-10-2024     3.8      0.20     New York     USA     Returned   \n",
       "4  15-10-2024     NaN       NaN       London      UK    Completed   \n",
       "5  20-10-2024     4.6      0.05      Chicago     USA    Completed   \n",
       "6  25-10-2024     4.4      0.15      Toronto  Canada    Completed   \n",
       "\n",
       "  PaymentMethod  \n",
       "0   Credit Card  \n",
       "1        PayPal  \n",
       "2    Debit Card  \n",
       "3   Credit Card  \n",
       "4   Credit Card  \n",
       "5        PayPal  \n",
       "6    Debit Card  "
      ]
     },
     "execution_count": 2,
     "metadata": {},
     "output_type": "execute_result"
    }
   ],
   "source": [
    "import pandas as pd\n",
    "ecomdata=pd.read_csv(\"E:/DataSets New/ecommerce_data_advanced.csv\")\n",
    "ecomdata"
   ]
  },
  {
   "cell_type": "code",
   "execution_count": 3,
   "id": "5af69326-342d-49ad-ad1e-4e8530b05b6c",
   "metadata": {},
   "outputs": [
    {
     "name": "stdout",
     "output_type": "stream",
     "text": [
      "   OrderID         Product     Category  Price  Quantity  CustomerID  \\\n",
      "0        1          Laptop  Electronics    800         1        1001   \n",
      "1        2           Phone  Electronics    500         2        1002   \n",
      "2        3           Chair    Furniture    150         3        1003   \n",
      "3        4      Headphones  Electronics    100         4        1004   \n",
      "5        6  Gaming Console  Electronics    300         1        1006   \n",
      "\n",
      "    OrderDate  Rating  Discount         City Country ReturnStatus  \\\n",
      "0  01-10-2024     4.5      0.10     New York     USA     Returned   \n",
      "1  03-10-2024     4.2      0.15  Los Angeles     USA    Completed   \n",
      "2  10-10-2024     4.0      0.05      Toronto  Canada    Completed   \n",
      "3  12-10-2024     3.8      0.20     New York     USA     Returned   \n",
      "5  20-10-2024     4.6      0.05      Chicago     USA    Completed   \n",
      "\n",
      "  PaymentMethod  \n",
      "0   Credit Card  \n",
      "1        PayPal  \n",
      "2    Debit Card  \n",
      "3   Credit Card  \n",
      "5        PayPal  \n"
     ]
    }
   ],
   "source": [
    "print(ecomdata.dropna(axis=0))"
   ]
  },
  {
   "cell_type": "code",
   "execution_count": 4,
   "id": "fd5b8df5-5427-4a0d-a6a2-1c9bbccc182f",
   "metadata": {},
   "outputs": [
    {
     "name": "stdout",
     "output_type": "stream",
     "text": [
      "   OrderID         Product     Category  Price  Quantity  CustomerID  \\\n",
      "0        1          Laptop  Electronics    800         1        1001   \n",
      "1        2           Phone  Electronics    500         2        1002   \n",
      "2        3           Chair    Furniture    150         3        1003   \n",
      "3        4      Headphones  Electronics    100         4        1004   \n",
      "4        5            Desk    Furniture    200         1        1005   \n",
      "5        6  Gaming Console  Electronics    300         1        1006   \n",
      "6        7            Sofa          NaN    500         2        1007   \n",
      "\n",
      "    OrderDate  Rating  Discount         City Country ReturnStatus  \\\n",
      "0  01-10-2024     4.5     0.100     New York     USA     Returned   \n",
      "1  03-10-2024     4.2     0.150  Los Angeles     USA    Completed   \n",
      "2  10-10-2024     4.0     0.050      Toronto  Canada    Completed   \n",
      "3  12-10-2024     3.8     0.200     New York     USA     Returned   \n",
      "4  15-10-2024     4.2     0.125       London      UK    Completed   \n",
      "5  20-10-2024     4.6     0.050      Chicago     USA    Completed   \n",
      "6  25-10-2024     4.4     0.150      Toronto  Canada    Completed   \n",
      "\n",
      "  PaymentMethod  \n",
      "0   Credit Card  \n",
      "1        PayPal  \n",
      "2    Debit Card  \n",
      "3   Credit Card  \n",
      "4   Credit Card  \n",
      "5        PayPal  \n",
      "6    Debit Card  \n"
     ]
    }
   ],
   "source": [
    "ecomdata['Discount']=ecomdata['Discount'].interpolate(method='linear')\n",
    "ecomdata['Rating']=ecomdata['Rating'].interpolate(method='linear')\n",
    "print(ecomdata)"
   ]
  },
  {
   "cell_type": "code",
   "execution_count": 5,
   "id": "ab8c1b01-757b-4005-9d1a-38786d59363b",
   "metadata": {},
   "outputs": [
    {
     "name": "stdout",
     "output_type": "stream",
     "text": [
      "Numerical Values\n",
      "   OrderID  Price  Quantity  CustomerID  Rating  Discount\n",
      "0        1    800         1        1001     4.5     0.100\n",
      "1        2    500         2        1002     4.2     0.150\n",
      "2        3    150         3        1003     4.0     0.050\n",
      "3        4    100         4        1004     3.8     0.200\n",
      "4        5    200         1        1005     4.2     0.125\n",
      "5        6    300         1        1006     4.6     0.050\n",
      "6        7    500         2        1007     4.4     0.150\n",
      "Categorical Values\n",
      "          Product     Category   OrderDate         City Country ReturnStatus  \\\n",
      "0          Laptop  Electronics  01-10-2024     New York     USA     Returned   \n",
      "1           Phone  Electronics  03-10-2024  Los Angeles     USA    Completed   \n",
      "2           Chair    Furniture  10-10-2024      Toronto  Canada    Completed   \n",
      "3      Headphones  Electronics  12-10-2024     New York     USA     Returned   \n",
      "4            Desk    Furniture  15-10-2024       London      UK    Completed   \n",
      "5  Gaming Console  Electronics  20-10-2024      Chicago     USA    Completed   \n",
      "6            Sofa          NaN  25-10-2024      Toronto  Canada    Completed   \n",
      "\n",
      "  PaymentMethod  \n",
      "0   Credit Card  \n",
      "1        PayPal  \n",
      "2    Debit Card  \n",
      "3   Credit Card  \n",
      "4   Credit Card  \n",
      "5        PayPal  \n",
      "6    Debit Card  \n"
     ]
    }
   ],
   "source": [
    "#Numerical Values\n",
    "numerical_values=ecomdata.select_dtypes(include=['int64','float64'])\n",
    "categorical_values=ecomdata.select_dtypes(include=['object','category'])\n",
    "print(\"Numerical Values\")\n",
    "print(numerical_values)\n",
    "print(\"Categorical Values\")\n",
    "print(categorical_values)"
   ]
  },
  {
   "cell_type": "code",
   "execution_count": 6,
   "id": "2c34ea9f-40e1-49be-825b-e58619722bea",
   "metadata": {},
   "outputs": [
    {
     "data": {
      "text/plain": [
       "OrderID          0\n",
       "Product          0\n",
       "Category         1\n",
       "Price            0\n",
       "Quantity         0\n",
       "CustomerID       0\n",
       "OrderDate        0\n",
       "Rating           0\n",
       "Discount         0\n",
       "City             0\n",
       "Country          0\n",
       "ReturnStatus     0\n",
       "PaymentMethod    0\n",
       "dtype: int64"
      ]
     },
     "execution_count": 6,
     "metadata": {},
     "output_type": "execute_result"
    }
   ],
   "source": [
    "ecomdata.isnull().sum()"
   ]
  },
  {
   "cell_type": "code",
   "execution_count": 7,
   "id": "13a544f3-5597-413e-94c0-882bad89bea4",
   "metadata": {},
   "outputs": [
    {
     "name": "stdout",
     "output_type": "stream",
     "text": [
      "   OrderID         Product     Category  Price  Quantity  CustomerID  \\\n",
      "0        1          Laptop  Electronics    800         1        1001   \n",
      "1        2           Phone  Electronics    500         2        1002   \n",
      "2        3           Chair    Furniture    150         3        1003   \n",
      "3        4      Headphones  Electronics    100         4        1004   \n",
      "4        5            Desk    Furniture    200         1        1005   \n",
      "5        6  Gaming Console  Electronics    300         1        1006   \n",
      "6        7            Sofa      Unknown    500         2        1007   \n",
      "\n",
      "    OrderDate  Rating  Discount         City Country ReturnStatus  \\\n",
      "0  01-10-2024     4.5     0.100     New York     USA     Returned   \n",
      "1  03-10-2024     4.2     0.150  Los Angeles     USA    Completed   \n",
      "2  10-10-2024     4.0     0.050      Toronto  Canada    Completed   \n",
      "3  12-10-2024     3.8     0.200     New York     USA     Returned   \n",
      "4  15-10-2024     4.2     0.125       London      UK    Completed   \n",
      "5  20-10-2024     4.6     0.050      Chicago     USA    Completed   \n",
      "6  25-10-2024     4.4     0.150      Toronto  Canada    Completed   \n",
      "\n",
      "  PaymentMethod  \n",
      "0   Credit Card  \n",
      "1        PayPal  \n",
      "2    Debit Card  \n",
      "3   Credit Card  \n",
      "4   Credit Card  \n",
      "5        PayPal  \n",
      "6    Debit Card  \n"
     ]
    }
   ],
   "source": [
    "ecomdata['Category']=ecomdata.Category.fillna(\"Unknown\")\n",
    "print(ecomdata)"
   ]
  },
  {
   "cell_type": "markdown",
   "id": "510becf5-7421-44d5-8dfd-af91bc5f8100",
   "metadata": {},
   "source": [
    "2.Advanced Data Transformations"
   ]
  },
  {
   "cell_type": "code",
   "execution_count": 8,
   "id": "f7730364-d4b7-4f5d-ba07-b4aeaa75a173",
   "metadata": {},
   "outputs": [
    {
     "name": "stdout",
     "output_type": "stream",
     "text": [
      "   OrderID         Product     Category  Price  Quantity  CustomerID  \\\n",
      "0        1          Laptop  Electronics    800         1        1001   \n",
      "1        2           Phone  Electronics    500         2        1002   \n",
      "2        3           Chair    Furniture    150         3        1003   \n",
      "3        4      Headphones  Electronics    100         4        1004   \n",
      "4        5            Desk    Furniture    200         1        1005   \n",
      "5        6  Gaming Console  Electronics    300         1        1006   \n",
      "6        7            Sofa      Unknown    500         2        1007   \n",
      "\n",
      "    OrderDate  Rating  Discount         City Country ReturnStatus  \\\n",
      "0  01-10-2024     4.5     0.100     New York     USA     Returned   \n",
      "1  03-10-2024     4.2     0.150  Los Angeles     USA    Completed   \n",
      "2  10-10-2024     4.0     0.050      Toronto  Canada    Completed   \n",
      "3  12-10-2024     3.8     0.200     New York     USA     Returned   \n",
      "4  15-10-2024     4.2     0.125       London      UK    Completed   \n",
      "5  20-10-2024     4.6     0.050      Chicago     USA    Completed   \n",
      "6  25-10-2024     4.4     0.150      Toronto  Canada    Completed   \n",
      "\n",
      "  PaymentMethod  EffectivePrice  \n",
      "0   Credit Card         799.900  \n",
      "1        PayPal         999.850  \n",
      "2    Debit Card         449.950  \n",
      "3   Credit Card         399.800  \n",
      "4   Credit Card         199.875  \n",
      "5        PayPal         299.950  \n",
      "6    Debit Card         999.850  \n"
     ]
    }
   ],
   "source": [
    "ecomdata['EffectivePrice']=ecomdata['Price']*ecomdata['Quantity']*1-ecomdata['Discount']\n",
    "print(ecomdata)"
   ]
  },
  {
   "cell_type": "code",
   "execution_count": 9,
   "id": "4460236a-1da5-4e7c-b692-75b978158724",
   "metadata": {},
   "outputs": [
    {
     "name": "stdout",
     "output_type": "stream",
     "text": [
      "   OrderID         Product     Category  Price  Quantity  CustomerID  \\\n",
      "0        1          Laptop  Electronics    800         1        1001   \n",
      "1        2           Phone  Electronics    500         2        1002   \n",
      "2        3           Chair    Furniture    150         3        1003   \n",
      "3        4      Headphones  Electronics    100         4        1004   \n",
      "4        5            Desk    Furniture    200         1        1005   \n",
      "5        6  Gaming Console  Electronics    300         1        1006   \n",
      "6        7            Sofa      Unknown    500         2        1007   \n",
      "\n",
      "    OrderDate  Rating  Discount         City Country ReturnStatus  \\\n",
      "0  01-10-2024     4.5     0.100     New York     USA     Returned   \n",
      "1  03-10-2024     4.2     0.150  Los Angeles     USA    Completed   \n",
      "2  10-10-2024     4.0     0.050      Toronto  Canada    Completed   \n",
      "3  12-10-2024     3.8     0.200     New York     USA     Returned   \n",
      "4  15-10-2024     4.2     0.125       London      UK    Completed   \n",
      "5  20-10-2024     4.6     0.050      Chicago     USA    Completed   \n",
      "6  25-10-2024     4.4     0.150      Toronto  Canada    Completed   \n",
      "\n",
      "  PaymentMethod  EffectivePrice  \n",
      "0   Credit Card        1149.900  \n",
      "1        PayPal        1349.850  \n",
      "2    Debit Card         799.950  \n",
      "3   Credit Card         749.800  \n",
      "4   Credit Card         549.875  \n",
      "5        PayPal         649.950  \n",
      "6    Debit Card        1349.850  \n"
     ]
    }
   ],
   "source": [
    "ecomdata['EffectivePrice']=ecomdata['EffectivePrice']+350\n",
    "print(ecomdata)"
   ]
  },
  {
   "cell_type": "code",
   "execution_count": 10,
   "id": "889df3fd-44dc-4a57-8584-ca8888f69fc9",
   "metadata": {},
   "outputs": [
    {
     "name": "stdout",
     "output_type": "stream",
     "text": [
      "   OrderID         Product     Category  Price  Quantity  CustomerID  \\\n",
      "0        1          Laptop  Electronics    800         1        1001   \n",
      "1        2           Phone  Electronics    500         2        1002   \n",
      "2        3           Chair    Furniture    150         3        1003   \n",
      "3        4      Headphones  Electronics    100         4        1004   \n",
      "4        5            Desk    Furniture    200         1        1005   \n",
      "5        6  Gaming Console  Electronics    300         1        1006   \n",
      "6        7            Sofa      Unknown    500         2        1007   \n",
      "\n",
      "    OrderDate  Rating  Discount         City Country ReturnStatus  \\\n",
      "0  01-10-2024     4.5     0.100     New York     USA     Returned   \n",
      "1  03-10-2024     4.2     0.150  Los Angeles     USA    Completed   \n",
      "2  10-10-2024     4.0     0.050      Toronto  Canada    Completed   \n",
      "3  12-10-2024     3.8     0.200     New York     USA     Returned   \n",
      "4  15-10-2024     4.2     0.125       London      UK    Completed   \n",
      "5  20-10-2024     4.6     0.050      Chicago     USA    Completed   \n",
      "6  25-10-2024     4.4     0.150      Toronto  Canada    Completed   \n",
      "\n",
      "  PaymentMethod  EffectivePrice CustomerType  \n",
      "0   Credit Card        1149.900      Premium  \n",
      "1        PayPal        1349.850      Premium  \n",
      "2    Debit Card         799.950      Economy  \n",
      "3   Credit Card         749.800      Economy  \n",
      "4   Credit Card         549.875      Economy  \n",
      "5        PayPal         649.950      Economy  \n",
      "6    Debit Card        1349.850      Premium  \n"
     ]
    }
   ],
   "source": [
    "ecomdata['CustomerType']=ecomdata['EffectivePrice'].apply(lambda x:\"Premium\" if x>1000\n",
    "                                                          else( \"Standard\" if 500>=x<1000 else \"Economy\"))\n",
    "print(ecomdata)"
   ]
  },
  {
   "cell_type": "code",
   "execution_count": 11,
   "id": "fc1576a5-ad9e-4fed-a611-5eb000158aae",
   "metadata": {},
   "outputs": [
    {
     "name": "stdout",
     "output_type": "stream",
     "text": [
      "0    1149.900\n",
      "1     350.000\n",
      "2     799.950\n",
      "3     749.800\n",
      "4     549.875\n",
      "5     649.950\n",
      "6     350.000\n",
      "Name: EffectivePrice, dtype: float64\n"
     ]
    }
   ],
   "source": [
    "ecomdata.loc[ecomdata['EffectivePrice']==1349.850,'EffectivePrice']=350\n",
    "print(ecomdata['EffectivePrice'])"
   ]
  },
  {
   "cell_type": "code",
   "execution_count": 12,
   "id": "1fc7a127-3e97-49bd-bc0e-0d43ed31294c",
   "metadata": {},
   "outputs": [
    {
     "name": "stdout",
     "output_type": "stream",
     "text": [
      "   OrderID         Product     Category  Price  Quantity  CustomerID  \\\n",
      "0        1          Laptop  Electronics    800         1        1001   \n",
      "1        2           Phone  Electronics    500         2        1002   \n",
      "2        3           Chair    Furniture    150         3        1003   \n",
      "3        4      Headphones  Electronics    100         4        1004   \n",
      "4        5            Desk    Furniture    200         1        1005   \n",
      "5        6  Gaming Console  Electronics    300         1        1006   \n",
      "6        7            Sofa      Unknown    500         2        1007   \n",
      "\n",
      "    OrderDate  Rating  Discount         City Country ReturnStatus  \\\n",
      "0  01-10-2024     4.5     0.100     New York     USA     Returned   \n",
      "1  03-10-2024     4.2     0.150  Los Angeles     USA    Completed   \n",
      "2  10-10-2024     4.0     0.050      Toronto  Canada    Completed   \n",
      "3  12-10-2024     3.8     0.200     New York     USA     Returned   \n",
      "4  15-10-2024     4.2     0.125       London      UK    Completed   \n",
      "5  20-10-2024     4.6     0.050      Chicago     USA    Completed   \n",
      "6  25-10-2024     4.4     0.150      Toronto  Canada    Completed   \n",
      "\n",
      "  PaymentMethod  EffectivePrice CustomerType  \n",
      "0   Credit Card        1149.900      Premium  \n",
      "1        PayPal         350.000      Premium  \n",
      "2    Debit Card         799.950      Economy  \n",
      "3   Credit Card         749.800      Economy  \n",
      "4   Credit Card         549.875      Economy  \n",
      "5        PayPal         649.950      Economy  \n",
      "6    Debit Card         350.000      Premium  \n"
     ]
    }
   ],
   "source": [
    "print(ecomdata)"
   ]
  },
  {
   "cell_type": "markdown",
   "id": "56b18b13-a225-4760-9724-64ccf2ff71d7",
   "metadata": {},
   "source": [
    "Step 3: Data Insights and Queries"
   ]
  },
  {
   "cell_type": "code",
   "execution_count": 13,
   "id": "e7f4fbf3-9cf5-4a3e-9cf3-f72208dd7476",
   "metadata": {},
   "outputs": [
    {
     "name": "stdout",
     "output_type": "stream",
     "text": [
      "Category\n",
      "Electronics    2899.650\n",
      "Furniture      1349.825\n",
      "Unknown         350.000\n",
      "Name: EffectivePrice, dtype: float64\n"
     ]
    }
   ],
   "source": [
    "ecomdata_totalrevenue=ecomdata.groupby('Category')['EffectivePrice'].sum()\n",
    "print(ecomdata_totalrevenue)"
   ]
  },
  {
   "cell_type": "code",
   "execution_count": 14,
   "id": "80036a4d-6540-4d22-9087-53a2850e6d62",
   "metadata": {},
   "outputs": [
    {
     "name": "stdout",
     "output_type": "stream",
     "text": [
      "   OrderID         Product     Category  Price  Quantity  CustomerID  \\\n",
      "0        1          Laptop  Electronics    800         1        1001   \n",
      "1        2           Phone  Electronics    500         2        1002   \n",
      "2        3           Chair    Furniture    150         3        1003   \n",
      "3        4      Headphones  Electronics    100         4        1004   \n",
      "4        5            Desk    Furniture    200         1        1005   \n",
      "5        6  Gaming Console  Electronics    300         1        1006   \n",
      "6        7            Sofa      Unknown    500         2        1007   \n",
      "\n",
      "    OrderDate  Rating  Discount         City Country ReturnStatus  \\\n",
      "0  01-10-2024     4.5     0.100     New York     USA     Returned   \n",
      "1  03-10-2024     4.2     0.150  Los Angeles     USA    Completed   \n",
      "2  10-10-2024     4.0     0.050      Toronto  Canada    Completed   \n",
      "3  12-10-2024     3.8     0.200     New York     USA     Returned   \n",
      "4  15-10-2024     4.2     0.125       London      UK    Completed   \n",
      "5  20-10-2024     4.6     0.050      Chicago     USA    Completed   \n",
      "6  25-10-2024     4.4     0.150      Toronto  Canada    Completed   \n",
      "\n",
      "  PaymentMethod  EffectivePrice CustomerType  TotalRevenue  \n",
      "0   Credit Card        1149.900      Premium      2899.650  \n",
      "1        PayPal         350.000      Premium      2899.650  \n",
      "2    Debit Card         799.950      Economy      1349.825  \n",
      "3   Credit Card         749.800      Economy      2899.650  \n",
      "4   Credit Card         549.875      Economy      1349.825  \n",
      "5        PayPal         649.950      Economy      2899.650  \n",
      "6    Debit Card         350.000      Premium       350.000  \n"
     ]
    }
   ],
   "source": [
    "ecomdata['TotalRevenue']=ecomdata['Category'].map(ecomdata_totalrevenue)\n",
    "print(ecomdata)"
   ]
  },
  {
   "cell_type": "code",
   "execution_count": 15,
   "id": "a3a7aed4-c8cb-4046-ad26-777f20b9af9d",
   "metadata": {},
   "outputs": [
    {
     "name": "stdout",
     "output_type": "stream",
     "text": [
      "Category\n",
      "Electronics    4.275\n",
      "Furniture      4.100\n",
      "Unknown        4.400\n",
      "Name: Rating, dtype: float64\n"
     ]
    }
   ],
   "source": [
    "ecomdata_averagerating=ecomdata.groupby('Category')['Rating'].mean()\n",
    "print(ecomdata_averagerating)"
   ]
  },
  {
   "cell_type": "code",
   "execution_count": 16,
   "id": "f37d64a9-7065-4888-9b27-80d88650079e",
   "metadata": {},
   "outputs": [
    {
     "name": "stdout",
     "output_type": "stream",
     "text": [
      "   OrderID         Product     Category  Price  Quantity  CustomerID  \\\n",
      "0        1          Laptop  Electronics    800         1        1001   \n",
      "1        2           Phone  Electronics    500         2        1002   \n",
      "2        3           Chair    Furniture    150         3        1003   \n",
      "3        4      Headphones  Electronics    100         4        1004   \n",
      "4        5            Desk    Furniture    200         1        1005   \n",
      "5        6  Gaming Console  Electronics    300         1        1006   \n",
      "6        7            Sofa      Unknown    500         2        1007   \n",
      "\n",
      "    OrderDate  Rating  Discount         City Country ReturnStatus  \\\n",
      "0  01-10-2024     4.5     0.100     New York     USA     Returned   \n",
      "1  03-10-2024     4.2     0.150  Los Angeles     USA    Completed   \n",
      "2  10-10-2024     4.0     0.050      Toronto  Canada    Completed   \n",
      "3  12-10-2024     3.8     0.200     New York     USA     Returned   \n",
      "4  15-10-2024     4.2     0.125       London      UK    Completed   \n",
      "5  20-10-2024     4.6     0.050      Chicago     USA    Completed   \n",
      "6  25-10-2024     4.4     0.150      Toronto  Canada    Completed   \n",
      "\n",
      "  PaymentMethod  EffectivePrice CustomerType  TotalRevenue  AverageRating  \n",
      "0   Credit Card        1149.900      Premium      2899.650          4.275  \n",
      "1        PayPal         350.000      Premium      2899.650          4.275  \n",
      "2    Debit Card         799.950      Economy      1349.825          4.100  \n",
      "3   Credit Card         749.800      Economy      2899.650          4.275  \n",
      "4   Credit Card         549.875      Economy      1349.825          4.100  \n",
      "5        PayPal         649.950      Economy      2899.650          4.275  \n",
      "6    Debit Card         350.000      Premium       350.000          4.400  \n"
     ]
    }
   ],
   "source": [
    "ecomdata['AverageRating']=ecomdata['Category'].map(ecomdata_averagerating)\n",
    "print(ecomdata)"
   ]
  },
  {
   "cell_type": "code",
   "execution_count": 17,
   "id": "82b5f3ac-a5ef-4387-b0df-19c4e23a9f4c",
   "metadata": {},
   "outputs": [
    {
     "name": "stdout",
     "output_type": "stream",
     "text": [
      "New York\n"
     ]
    }
   ],
   "source": [
    "highest_revenuecity=ecomdata.sort_values(by=['TotalRevenue'],ascending=[True])\n",
    "print(highest_revenuecity.City.loc[0])"
   ]
  },
  {
   "cell_type": "code",
   "execution_count": 18,
   "id": "e2291536-fbf3-4f24-97a4-d471bb7b54d5",
   "metadata": {},
   "outputs": [
    {
     "name": "stdout",
     "output_type": "stream",
     "text": [
      "Category\n",
      "Electronics    2\n",
      "Furniture      1\n",
      "Unknown        1\n",
      "Name: CustomerType, dtype: int64\n"
     ]
    }
   ],
   "source": [
    "ecomdata_uniquecustomers=ecomdata.groupby('Category')['CustomerType'].nunique()\n",
    "print(ecomdata_uniquecustomers)"
   ]
  },
  {
   "cell_type": "code",
   "execution_count": null,
   "id": "58bc731c-ef71-4842-a6c9-4969e742fa01",
   "metadata": {},
   "outputs": [],
   "source": []
  },
  {
   "cell_type": "code",
   "execution_count": 20,
   "id": "ea5f2704-fe6e-49c8-b1e8-81a2ccd115e3",
   "metadata": {},
   "outputs": [
    {
     "name": "stdout",
     "output_type": "stream",
     "text": [
      "4.275\n",
      "4.1\n",
      "4.4\n"
     ]
    },
    {
     "name": "stderr",
     "output_type": "stream",
     "text": [
      "C:\\Users\\Govindu Vijay Kumar\\AppData\\Local\\Temp\\ipykernel_7204\\2587701848.py:1: FutureWarning: Series.__getitem__ treating keys as positions is deprecated. In a future version, integer keys will always be treated as labels (consistent with DataFrame behavior). To access a value by position, use `ser.iloc[pos]`\n",
      "  print(ecomdata_averagerating[0])\n",
      "C:\\Users\\Govindu Vijay Kumar\\AppData\\Local\\Temp\\ipykernel_7204\\2587701848.py:2: FutureWarning: Series.__getitem__ treating keys as positions is deprecated. In a future version, integer keys will always be treated as labels (consistent with DataFrame behavior). To access a value by position, use `ser.iloc[pos]`\n",
      "  print(ecomdata_averagerating[1])\n",
      "C:\\Users\\Govindu Vijay Kumar\\AppData\\Local\\Temp\\ipykernel_7204\\2587701848.py:3: FutureWarning: Series.__getitem__ treating keys as positions is deprecated. In a future version, integer keys will always be treated as labels (consistent with DataFrame behavior). To access a value by position, use `ser.iloc[pos]`\n",
      "  print(ecomdata_averagerating[2])\n"
     ]
    }
   ],
   "source": [
    "print(ecomdata_averagerating[0])\n",
    "print(ecomdata_averagerating[1])\n",
    "print(ecomdata_averagerating[2])"
   ]
  },
  {
   "cell_type": "code",
   "execution_count": 21,
   "id": "79f6de65-2d0a-46a9-8675-588ef25d79ec",
   "metadata": {},
   "outputs": [
    {
     "name": "stdout",
     "output_type": "stream",
     "text": [
      "   OrderID     Product     Category  Price  Quantity  CustomerID   OrderDate  \\\n",
      "1        2       Phone  Electronics    500         2        1002  03-10-2024   \n",
      "2        3       Chair    Furniture    150         3        1003  10-10-2024   \n",
      "3        4  Headphones  Electronics    100         4        1004  12-10-2024   \n",
      "\n",
      "   Rating  Discount         City Country ReturnStatus PaymentMethod  \\\n",
      "1     4.2      0.15  Los Angeles     USA    Completed        PayPal   \n",
      "2     4.0      0.05      Toronto  Canada    Completed    Debit Card   \n",
      "3     3.8      0.20     New York     USA     Returned   Credit Card   \n",
      "\n",
      "   EffectivePrice CustomerType  TotalRevenue  AverageRating  \n",
      "1          350.00      Premium      2899.650          4.275  \n",
      "2          799.95      Economy      1349.825          4.100  \n",
      "3          749.80      Economy      2899.650          4.275  \n"
     ]
    }
   ],
   "source": [
    "belowavgrating=ecomdata[ecomdata['Rating']<ecomdata['AverageRating']]\n",
    "print(belowavgrating)"
   ]
  },
  {
   "cell_type": "code",
   "execution_count": 22,
   "id": "2b6b366d-b6f9-4c3d-9502-0341e814d1c2",
   "metadata": {},
   "outputs": [
    {
     "name": "stdout",
     "output_type": "stream",
     "text": [
      "5799.3\n"
     ]
    }
   ],
   "source": [
    "#ecomdata.['ReturnStatus'] #returned\n",
    "refundamount=ecomdata.groupby('ReturnStatus')['TotalRevenue'].sum()\n",
    "print(refundamount.Returned)"
   ]
  },
  {
   "cell_type": "markdown",
   "id": "692e40a2-4e33-4a2d-9d0b-3674d9a7634e",
   "metadata": {},
   "source": [
    "Step5: Custom functions and Logical Challenges"
   ]
  },
  {
   "cell_type": "code",
   "execution_count": 23,
   "id": "2e5a0457-95fa-4e29-982e-4755b37a23ff",
   "metadata": {},
   "outputs": [
    {
     "name": "stdout",
     "output_type": "stream",
     "text": [
      "   OrderID         Product     Category  Price  Quantity  CustomerID  \\\n",
      "0        1          Laptop  Electronics    800         1        1001   \n",
      "1        2           Phone  Electronics    500         2        1002   \n",
      "2        3           Chair    Furniture    150         3        1003   \n",
      "3        4      Headphones  Electronics    100         4        1004   \n",
      "4        5            Desk    Furniture    200         1        1005   \n",
      "5        6  Gaming Console  Electronics    300         1        1006   \n",
      "6        7            Sofa      Unknown    500         2        1007   \n",
      "\n",
      "    OrderDate  Rating  Discount         City Country ReturnStatus  \\\n",
      "0  01-10-2024     4.5     0.100     New York     USA     Returned   \n",
      "1  03-10-2024     4.2     0.150  Los Angeles     USA    Completed   \n",
      "2  10-10-2024     4.0     0.050      Toronto  Canada    Completed   \n",
      "3  12-10-2024     3.8     0.200     New York     USA     Returned   \n",
      "4  15-10-2024     4.2     0.125       London      UK    Completed   \n",
      "5  20-10-2024     4.6     0.050      Chicago     USA    Completed   \n",
      "6  25-10-2024     4.4     0.150      Toronto  Canada    Completed   \n",
      "\n",
      "  PaymentMethod  EffectivePrice CustomerType  TotalRevenue  AverageRating  \n",
      "0   Credit Card            80.0      Premium      2899.650          4.275  \n",
      "1        PayPal            75.0      Premium      2899.650          4.275  \n",
      "2    Debit Card             7.5      Economy      1349.825          4.100  \n",
      "3   Credit Card            20.0      Economy      2899.650          4.275  \n",
      "4   Credit Card            25.0      Economy      1349.825          4.100  \n",
      "5        PayPal            15.0      Economy      2899.650          4.275  \n",
      "6    Debit Card            75.0      Premium       350.000          4.400  \n"
     ]
    }
   ],
   "source": [
    "def simulate_discount(dis):\n",
    "    ecomdata['EffectivePrice']=ecomdata['Price']*dis\n",
    "    \n",
    "simulate_discount(ecomdata['Discount'])\n",
    "print(ecomdata)"
   ]
  },
  {
   "cell_type": "code",
   "execution_count": 24,
   "id": "2075c394-25d7-4741-93f2-2a7ef3f1b6ae",
   "metadata": {},
   "outputs": [
    {
     "name": "stdout",
     "output_type": "stream",
     "text": [
      "   OrderID Product     Category  Price  Quantity  CustomerID   OrderDate  \\\n",
      "0        1  Laptop  Electronics    800         1        1001  01-10-2024   \n",
      "1        2   Phone  Electronics    500         2        1002  03-10-2024   \n",
      "6        7    Sofa      Unknown    500         2        1007  25-10-2024   \n",
      "\n",
      "   Rating  Discount         City Country ReturnStatus PaymentMethod  \\\n",
      "0     4.5      0.10     New York     USA     Returned   Credit Card   \n",
      "1     4.2      0.15  Los Angeles     USA    Completed        PayPal   \n",
      "6     4.4      0.15      Toronto  Canada    Completed    Debit Card   \n",
      "\n",
      "   EffectivePrice CustomerType  TotalRevenue  AverageRating  \n",
      "0            80.0      Premium       2899.65          4.275  \n",
      "1            75.0      Premium       2899.65          4.275  \n",
      "6            75.0      Premium        350.00          4.400  \n"
     ]
    }
   ],
   "source": [
    "sortedorder=ecomdata.sort_values(by=['EffectivePrice'],ascending=[False])\n",
    "#print(ecomdata['EffectivePrice'].iloc[0:3])\n",
    "print(sortedorder.iloc[0:3])"
   ]
  },
  {
   "cell_type": "code",
   "execution_count": 25,
   "id": "e3e7f9e3-fdb4-44ed-8f3e-e555d9b55c5e",
   "metadata": {},
   "outputs": [
    {
     "name": "stdout",
     "output_type": "stream",
     "text": [
      "CustomerID\n",
      "1001    1\n",
      "1002    1\n",
      "1003    1\n",
      "1004    1\n",
      "1005    1\n",
      "1006    1\n",
      "1007    1\n",
      "Name: OrderID, dtype: int64\n"
     ]
    }
   ],
   "source": [
    "def analyze_customer(custid):\n",
    "    customercount=ecomdata.groupby('CustomerID')['OrderID'].count()\n",
    "    print(customercount)\n",
    "analyze_customer(ecomdata['CustomerID'])\n"
   ]
  },
  {
   "cell_type": "code",
   "execution_count": 26,
   "id": "81c66b28-3eaa-448e-961e-db78539a7631",
   "metadata": {},
   "outputs": [
    {
     "name": "stdout",
     "output_type": "stream",
     "text": [
      "   CustomerID  OrderID\n",
      "0        1001        1\n",
      "1        1002        1\n",
      "2        1003        1\n",
      "3        1004        1\n",
      "4        1005        1\n",
      "5        1006        1\n",
      "6        1007        1\n"
     ]
    }
   ],
   "source": [
    "def analyze_customer(custid):\n",
    "    customercount=ecomdata.groupby('CustomerID')['OrderID'].count().reset_index()\n",
    "    print(customercount)\n",
    "analyze_customer(ecomdata['CustomerID'])\n"
   ]
  },
  {
   "cell_type": "code",
   "execution_count": 27,
   "id": "248cc69f-99d9-40ea-b5e1-f3d7e903ca9b",
   "metadata": {},
   "outputs": [
    {
     "data": {
      "text/html": [
       "<div>\n",
       "<style scoped>\n",
       "    .dataframe tbody tr th:only-of-type {\n",
       "        vertical-align: middle;\n",
       "    }\n",
       "\n",
       "    .dataframe tbody tr th {\n",
       "        vertical-align: top;\n",
       "    }\n",
       "\n",
       "    .dataframe thead th {\n",
       "        text-align: right;\n",
       "    }\n",
       "</style>\n",
       "<table border=\"1\" class=\"dataframe\">\n",
       "  <thead>\n",
       "    <tr style=\"text-align: right;\">\n",
       "      <th></th>\n",
       "      <th>OrderID</th>\n",
       "      <th>Product</th>\n",
       "      <th>Category</th>\n",
       "      <th>Price</th>\n",
       "      <th>Quantity</th>\n",
       "      <th>CustomerID</th>\n",
       "      <th>OrderDate</th>\n",
       "      <th>Rating</th>\n",
       "      <th>Discount</th>\n",
       "      <th>City</th>\n",
       "      <th>Country</th>\n",
       "      <th>ReturnStatus</th>\n",
       "      <th>PaymentMethod</th>\n",
       "      <th>EffectivePrice</th>\n",
       "      <th>CustomerType</th>\n",
       "      <th>TotalRevenue</th>\n",
       "      <th>AverageRating</th>\n",
       "    </tr>\n",
       "  </thead>\n",
       "  <tbody>\n",
       "    <tr>\n",
       "      <th>0</th>\n",
       "      <td>1</td>\n",
       "      <td>Laptop</td>\n",
       "      <td>Electronics</td>\n",
       "      <td>800</td>\n",
       "      <td>1</td>\n",
       "      <td>1001</td>\n",
       "      <td>01-10-2024</td>\n",
       "      <td>4.5</td>\n",
       "      <td>0.100</td>\n",
       "      <td>New York</td>\n",
       "      <td>USA</td>\n",
       "      <td>Returned</td>\n",
       "      <td>Credit Card</td>\n",
       "      <td>80.0</td>\n",
       "      <td>Premium</td>\n",
       "      <td>2899.650</td>\n",
       "      <td>4.275</td>\n",
       "    </tr>\n",
       "    <tr>\n",
       "      <th>1</th>\n",
       "      <td>2</td>\n",
       "      <td>Phone</td>\n",
       "      <td>Electronics</td>\n",
       "      <td>500</td>\n",
       "      <td>2</td>\n",
       "      <td>1002</td>\n",
       "      <td>03-10-2024</td>\n",
       "      <td>4.2</td>\n",
       "      <td>0.150</td>\n",
       "      <td>Los Angeles</td>\n",
       "      <td>USA</td>\n",
       "      <td>Completed</td>\n",
       "      <td>PayPal</td>\n",
       "      <td>75.0</td>\n",
       "      <td>Premium</td>\n",
       "      <td>2899.650</td>\n",
       "      <td>4.275</td>\n",
       "    </tr>\n",
       "    <tr>\n",
       "      <th>2</th>\n",
       "      <td>3</td>\n",
       "      <td>Chair</td>\n",
       "      <td>Furniture</td>\n",
       "      <td>150</td>\n",
       "      <td>3</td>\n",
       "      <td>1003</td>\n",
       "      <td>10-10-2024</td>\n",
       "      <td>4.0</td>\n",
       "      <td>0.050</td>\n",
       "      <td>Toronto</td>\n",
       "      <td>Canada</td>\n",
       "      <td>Completed</td>\n",
       "      <td>Debit Card</td>\n",
       "      <td>7.5</td>\n",
       "      <td>Economy</td>\n",
       "      <td>1349.825</td>\n",
       "      <td>4.100</td>\n",
       "    </tr>\n",
       "    <tr>\n",
       "      <th>3</th>\n",
       "      <td>4</td>\n",
       "      <td>Headphones</td>\n",
       "      <td>Electronics</td>\n",
       "      <td>100</td>\n",
       "      <td>4</td>\n",
       "      <td>1004</td>\n",
       "      <td>12-10-2024</td>\n",
       "      <td>3.8</td>\n",
       "      <td>0.200</td>\n",
       "      <td>New York</td>\n",
       "      <td>USA</td>\n",
       "      <td>Returned</td>\n",
       "      <td>Credit Card</td>\n",
       "      <td>20.0</td>\n",
       "      <td>Economy</td>\n",
       "      <td>2899.650</td>\n",
       "      <td>4.275</td>\n",
       "    </tr>\n",
       "    <tr>\n",
       "      <th>4</th>\n",
       "      <td>5</td>\n",
       "      <td>Desk</td>\n",
       "      <td>Furniture</td>\n",
       "      <td>200</td>\n",
       "      <td>1</td>\n",
       "      <td>1005</td>\n",
       "      <td>15-10-2024</td>\n",
       "      <td>4.2</td>\n",
       "      <td>0.125</td>\n",
       "      <td>London</td>\n",
       "      <td>UK</td>\n",
       "      <td>Completed</td>\n",
       "      <td>Credit Card</td>\n",
       "      <td>25.0</td>\n",
       "      <td>Economy</td>\n",
       "      <td>1349.825</td>\n",
       "      <td>4.100</td>\n",
       "    </tr>\n",
       "    <tr>\n",
       "      <th>5</th>\n",
       "      <td>6</td>\n",
       "      <td>Gaming Console</td>\n",
       "      <td>Electronics</td>\n",
       "      <td>300</td>\n",
       "      <td>1</td>\n",
       "      <td>1006</td>\n",
       "      <td>20-10-2024</td>\n",
       "      <td>4.6</td>\n",
       "      <td>0.050</td>\n",
       "      <td>Chicago</td>\n",
       "      <td>USA</td>\n",
       "      <td>Completed</td>\n",
       "      <td>PayPal</td>\n",
       "      <td>15.0</td>\n",
       "      <td>Economy</td>\n",
       "      <td>2899.650</td>\n",
       "      <td>4.275</td>\n",
       "    </tr>\n",
       "    <tr>\n",
       "      <th>6</th>\n",
       "      <td>7</td>\n",
       "      <td>Sofa</td>\n",
       "      <td>Unknown</td>\n",
       "      <td>500</td>\n",
       "      <td>2</td>\n",
       "      <td>1007</td>\n",
       "      <td>25-10-2024</td>\n",
       "      <td>4.4</td>\n",
       "      <td>0.150</td>\n",
       "      <td>Toronto</td>\n",
       "      <td>Canada</td>\n",
       "      <td>Completed</td>\n",
       "      <td>Debit Card</td>\n",
       "      <td>75.0</td>\n",
       "      <td>Premium</td>\n",
       "      <td>350.000</td>\n",
       "      <td>4.400</td>\n",
       "    </tr>\n",
       "  </tbody>\n",
       "</table>\n",
       "</div>"
      ],
      "text/plain": [
       "   OrderID         Product     Category  Price  Quantity  CustomerID  \\\n",
       "0        1          Laptop  Electronics    800         1        1001   \n",
       "1        2           Phone  Electronics    500         2        1002   \n",
       "2        3           Chair    Furniture    150         3        1003   \n",
       "3        4      Headphones  Electronics    100         4        1004   \n",
       "4        5            Desk    Furniture    200         1        1005   \n",
       "5        6  Gaming Console  Electronics    300         1        1006   \n",
       "6        7            Sofa      Unknown    500         2        1007   \n",
       "\n",
       "    OrderDate  Rating  Discount         City Country ReturnStatus  \\\n",
       "0  01-10-2024     4.5     0.100     New York     USA     Returned   \n",
       "1  03-10-2024     4.2     0.150  Los Angeles     USA    Completed   \n",
       "2  10-10-2024     4.0     0.050      Toronto  Canada    Completed   \n",
       "3  12-10-2024     3.8     0.200     New York     USA     Returned   \n",
       "4  15-10-2024     4.2     0.125       London      UK    Completed   \n",
       "5  20-10-2024     4.6     0.050      Chicago     USA    Completed   \n",
       "6  25-10-2024     4.4     0.150      Toronto  Canada    Completed   \n",
       "\n",
       "  PaymentMethod  EffectivePrice CustomerType  TotalRevenue  AverageRating  \n",
       "0   Credit Card            80.0      Premium      2899.650          4.275  \n",
       "1        PayPal            75.0      Premium      2899.650          4.275  \n",
       "2    Debit Card             7.5      Economy      1349.825          4.100  \n",
       "3   Credit Card            20.0      Economy      2899.650          4.275  \n",
       "4   Credit Card            25.0      Economy      1349.825          4.100  \n",
       "5        PayPal            15.0      Economy      2899.650          4.275  \n",
       "6    Debit Card            75.0      Premium       350.000          4.400  "
      ]
     },
     "execution_count": 27,
     "metadata": {},
     "output_type": "execute_result"
    }
   ],
   "source": [
    "ecomdata"
   ]
  },
  {
   "cell_type": "code",
   "execution_count": 28,
   "id": "6c658bbd-1b70-4270-961e-3470cd9b1f06",
   "metadata": {},
   "outputs": [
    {
     "name": "stdout",
     "output_type": "stream",
     "text": [
      "CustomerID\n",
      "1001    80.0\n",
      "1002    75.0\n",
      "1003     7.5\n",
      "1004    20.0\n",
      "1005    25.0\n",
      "1006    15.0\n",
      "1007    75.0\n",
      "Name: EffectivePrice, dtype: float64\n"
     ]
    }
   ],
   "source": [
    "print(ecomdata.groupby('CustomerID')['EffectivePrice'].sum())\n"
   ]
  },
  {
   "cell_type": "code",
   "execution_count": 29,
   "id": "ced78697-3f98-40b0-bf29-15288c7edc4b",
   "metadata": {},
   "outputs": [
    {
     "name": "stdout",
     "output_type": "stream",
     "text": [
      "2 7\n",
      "28.57142857142857\n"
     ]
    }
   ],
   "source": [
    "returnedorders=len(ecomdata[ecomdata['ReturnStatus']=='Returned'])\n",
    "totalorders=len(ecomdata)\n",
    "print(returnedorders,totalorders)\n",
    "print((returnedorders/totalorders)*100)\n"
   ]
  },
  {
   "cell_type": "markdown",
   "id": "ff784d3a-4ae3-407e-a472-6f0bf48bb29a",
   "metadata": {},
   "source": [
    "Step 6:Data Visualization"
   ]
  },
  {
   "cell_type": "code",
   "execution_count": 36,
   "id": "e3d5b169",
   "metadata": {},
   "outputs": [
    {
     "name": "stdout",
     "output_type": "stream",
     "text": [
      "Requirement already satisfied: matplotlib in c:\\users\\govindu vijay kumar\\anaconda3\\envs\\notebook\\lib\\site-packages (3.9.3)\n",
      "Requirement already satisfied: contourpy>=1.0.1 in c:\\users\\govindu vijay kumar\\anaconda3\\envs\\notebook\\lib\\site-packages (from matplotlib) (1.3.1)\n",
      "Requirement already satisfied: cycler>=0.10 in c:\\users\\govindu vijay kumar\\anaconda3\\envs\\notebook\\lib\\site-packages (from matplotlib) (0.12.1)\n",
      "Requirement already satisfied: fonttools>=4.22.0 in c:\\users\\govindu vijay kumar\\anaconda3\\envs\\notebook\\lib\\site-packages (from matplotlib) (4.55.2)\n",
      "Requirement already satisfied: kiwisolver>=1.3.1 in c:\\users\\govindu vijay kumar\\anaconda3\\envs\\notebook\\lib\\site-packages (from matplotlib) (1.4.7)\n",
      "Requirement already satisfied: numpy>=1.23 in c:\\users\\govindu vijay kumar\\anaconda3\\envs\\notebook\\lib\\site-packages (from matplotlib) (2.1.3)\n",
      "Requirement already satisfied: packaging>=20.0 in c:\\users\\govindu vijay kumar\\appdata\\roaming\\python\\python311\\site-packages (from matplotlib) (24.0)\n",
      "Requirement already satisfied: pillow>=8 in c:\\users\\govindu vijay kumar\\anaconda3\\envs\\notebook\\lib\\site-packages (from matplotlib) (11.0.0)\n",
      "Requirement already satisfied: pyparsing>=2.3.1 in c:\\users\\govindu vijay kumar\\anaconda3\\envs\\notebook\\lib\\site-packages (from matplotlib) (3.2.0)\n",
      "Requirement already satisfied: python-dateutil>=2.7 in c:\\users\\govindu vijay kumar\\anaconda3\\envs\\notebook\\lib\\site-packages (from matplotlib) (2.9.0.post0)\n",
      "Requirement already satisfied: six>=1.5 in c:\\users\\govindu vijay kumar\\anaconda3\\envs\\notebook\\lib\\site-packages (from python-dateutil>=2.7->matplotlib) (1.16.0)\n",
      "Note: you may need to restart the kernel to use updated packages.\n"
     ]
    }
   ],
   "source": [
    "pip install matplotlib"
   ]
  },
  {
   "cell_type": "code",
   "execution_count": 37,
   "id": "8f2191c8-d42a-43de-a692-81da88ad938f",
   "metadata": {},
   "outputs": [
    {
     "data": {
      "image/png": "[encoded data removed]",
      "text/plain": [
       "<Figure size 640x480 with 1 Axes>"
      ]
     },
     "metadata": {},
     "output_type": "display_data"
    }
   ],
   "source": [
    "import matplotlib.pyplot as plt\n",
    "plt.plot(ecomdata['EffectivePrice'],ecomdata['OrderDate'],marker='o',linestyle='-',color='orange')\n",
    "plt.show()"
   ]
  },
  {
   "cell_type": "code",
   "execution_count": 39,
   "id": "917b3768",
   "metadata": {},
   "outputs": [
    {
     "name": "stdout",
     "output_type": "stream",
     "text": [
      "Collecting seabornNote: you may need to restart the kernel to use updated packages.\n",
      "\n",
      "  Downloading seaborn-0.13.2-py3-none-any.whl.metadata (5.4 kB)\n",
      "Requirement already satisfied: numpy!=1.24.0,>=1.20 in c:\\users\\govindu vijay kumar\\anaconda3\\envs\\notebook\\lib\\site-packages (from seaborn) (2.1.3)\n",
      "Requirement already satisfied: pandas>=1.2 in c:\\users\\govindu vijay kumar\\anaconda3\\envs\\notebook\\lib\\site-packages (from seaborn) (2.2.3)\n",
      "Requirement already satisfied: matplotlib!=3.6.1,>=3.4 in c:\\users\\govindu vijay kumar\\anaconda3\\envs\\notebook\\lib\\site-packages (from seaborn) (3.9.3)\n",
      "Requirement already satisfied: contourpy>=1.0.1 in c:\\users\\govindu vijay kumar\\anaconda3\\envs\\notebook\\lib\\site-packages (from matplotlib!=3.6.1,>=3.4->seaborn) (1.3.1)\n",
      "Requirement already satisfied: cycler>=0.10 in c:\\users\\govindu vijay kumar\\anaconda3\\envs\\notebook\\lib\\site-packages (from matplotlib!=3.6.1,>=3.4->seaborn) (0.12.1)\n",
      "Requirement already satisfied: fonttools>=4.22.0 in c:\\users\\govindu vijay kumar\\anaconda3\\envs\\notebook\\lib\\site-packages (from matplotlib!=3.6.1,>=3.4->seaborn) (4.55.2)\n",
      "Requirement already satisfied: kiwisolver>=1.3.1 in c:\\users\\govindu vijay kumar\\anaconda3\\envs\\notebook\\lib\\site-packages (from matplotlib!=3.6.1,>=3.4->seaborn) (1.4.7)\n",
      "Requirement already satisfied: packaging>=20.0 in c:\\users\\govindu vijay kumar\\appdata\\roaming\\python\\python311\\site-packages (from matplotlib!=3.6.1,>=3.4->seaborn) (24.0)\n",
      "Requirement already satisfied: pillow>=8 in c:\\users\\govindu vijay kumar\\anaconda3\\envs\\notebook\\lib\\site-packages (from matplotlib!=3.6.1,>=3.4->seaborn) (11.0.0)\n",
      "Requirement already satisfied: pyparsing>=2.3.1 in c:\\users\\govindu vijay kumar\\anaconda3\\envs\\notebook\\lib\\site-packages (from matplotlib!=3.6.1,>=3.4->seaborn) (3.2.0)\n",
      "Requirement already satisfied: python-dateutil>=2.7 in c:\\users\\govindu vijay kumar\\anaconda3\\envs\\notebook\\lib\\site-packages (from matplotlib!=3.6.1,>=3.4->seaborn) (2.9.0.post0)\n",
      "Requirement already satisfied: pytz>=2020.1 in c:\\users\\govindu vijay kumar\\anaconda3\\envs\\notebook\\lib\\site-packages (from pandas>=1.2->seaborn) (2024.2)\n",
      "Requirement already satisfied: tzdata>=2022.7 in c:\\users\\govindu vijay kumar\\anaconda3\\envs\\notebook\\lib\\site-packages (from pandas>=1.2->seaborn) (2024.2)\n",
      "Requirement already satisfied: six>=1.5 in c:\\users\\govindu vijay kumar\\anaconda3\\envs\\notebook\\lib\\site-packages (from python-dateutil>=2.7->matplotlib!=3.6.1,>=3.4->seaborn) (1.16.0)\n",
      "Downloading seaborn-0.13.2-py3-none-any.whl (294 kB)\n",
      "Installing collected packages: seaborn\n",
      "Successfully installed seaborn-0.13.2\n"
     ]
    }
   ],
   "source": [
    "pip install seaborn"
   ]
  },
  {
   "cell_type": "code",
   "execution_count": 40,
   "id": "a03e3e4f-55e0-4529-a5a9-940527eb8ce5",
   "metadata": {},
   "outputs": [
    {
     "data": {
      "image/png": "[encoded data removed]",
      "text/plain": [
       "<Figure size 640x480 with 2 Axes>"
      ]
     },
     "metadata": {},
     "output_type": "display_data"
    }
   ],
   "source": [
    "import seaborn as sns\n",
    "pivot_table=ecomdata.pivot_table(columns=['Category'],values=['EffectivePrice'],index=['City'],aggfunc='sum',fill_value=0)\n",
    "sns.heatmap(pivot_table,fmt=\".2f\",cmap=\"YlGnBu\")\n",
    "plt.show()"
   ]
  },
  {
   "cell_type": "code",
   "execution_count": 41,
   "id": "2823046a-29b5-4ed6-8508-af4dbda5b984",
   "metadata": {
    "scrolled": true
   },
   "outputs": [
    {
     "data": {
      "text/plain": [
       "(array([1., 0., 1., 0., 0., 2., 0., 1., 1., 1.]),\n",
       " array([3.8 , 3.88, 3.96, 4.04, 4.12, 4.2 , 4.28, 4.36, 4.44, 4.52, 4.6 ]),\n",
       " <BarContainer object of 10 artists>)"
      ]
     },
     "execution_count": 41,
     "metadata": {},
     "output_type": "execute_result"
    },
    {
     "data": {
      "image/png": "[encoded data removed]",
      "text/plain": [
       "<Figure size 640x480 with 1 Axes>"
      ]
     },
     "metadata": {},
     "output_type": "display_data"
    }
   ],
   "source": [
    "plt.hist(ecomdata['Rating'],alpha=0.7)"
   ]
  },
  {
   "cell_type": "markdown",
   "id": "501fb271-b69d-42e2-a94e-370a3dd8e3db",
   "metadata": {},
   "source": [
    "Step 7.Export Data"
   ]
  },
  {
   "cell_type": "code",
   "execution_count": 42,
   "id": "a6cd37ad-79d9-4785-a2ba-0d7034a680c9",
   "metadata": {},
   "outputs": [],
   "source": [
    "finaldata=ecomdata.to_csv(\"E:/DataSets New/ecommerce_report_data_advanced.csv\")\n"
   ]
  },
  {
   "cell_type": "code",
   "execution_count": null,
   "id": "592d346e-719e-4bc3-bbf3-4682dfdb2860",
   "metadata": {},
   "outputs": [],
   "source": []
  }
 ],
 "metadata": {
  "kernelspec": {
   "display_name": "Python 3 (ipykernel)",
   "language": "python",
   "name": "python3"
  },
  "language_info": {
   "codemirror_mode": {
    "name": "ipython",
    "version": 3
   },
   "file_extension": ".py",
   "mimetype": "text/x-python",
   "name": "python",
   "nbconvert_exporter": "python",
   "pygments_lexer": "ipython3",
   "version": "3.11.10"
  }
 },
 "nbformat": 4,
 "nbformat_minor": 5
}
